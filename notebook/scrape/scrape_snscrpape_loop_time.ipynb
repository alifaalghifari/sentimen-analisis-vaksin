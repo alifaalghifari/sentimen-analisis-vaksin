{
 "cells": [
  {
   "cell_type": "code",
   "execution_count": 1,
   "metadata": {},
   "outputs": [],
   "source": [
    "import snscrape.modules.twitter as sntwitter\n",
    "import pandas as pd\n",
    "import itertools"
   ]
  },
  {
   "cell_type": "markdown",
   "metadata": {},
   "source": [
    "## Scrape"
   ]
  },
  {
   "cell_type": "markdown",
   "metadata": {},
   "source": [
    "Vaksinasi di indonesia dimulai dari 13 januari 2021 sehingga kami mengambil data dimulai dari waktu teresebut hingga 13 oktober 2022\n",
    "\n",
    "Data diambil dalam rentan waktu 16\n",
    "\n",
    "format date : yyyyMMddhhmm\n",
    "\n",
    "Range waktu pengambilan data : 2021-01-13 - 2022-10-13\n",
    "\n",
    "Kami membagi 8 rentan waktu tiap dua bulan yaitu : \n",
    "\n",
    "1. 2021-01-13  - 2021-03-12\n",
    "2. 2021-03-13  - 2021-05-12\n",
    "3. 2021-05-13  - 2021-07-12\n",
    "4. 2021-01-13  - 2021-03-12\n",
    "5. 2021-01-13  - 2021-03-12\n",
    "6. 2021-01-13  - 2021-03-12\n",
    "7. 2021-01-13  - 2022-03-12\n",
    "8. 2022-01-13  - 2022-03-13\n",
    "\n",
    "Tiap rentan waktu kami mengambil 500 data"
   ]
  },
  {
   "cell_type": "code",
   "execution_count": 28,
   "metadata": {},
   "outputs": [
    {
     "name": "stderr",
     "output_type": "stream",
     "text": [
      "C:\\Users\\Muh_A\\AppData\\Local\\Temp\\ipykernel_2156\\3168968326.py:20: FutureWarning: content is deprecated, use rawContent instead\n",
      "  tweets_list2.append([tweet.date, tweet.content, tweet.user.username, tweet.user.location, tweet.hashtags])\n"
     ]
    }
   ],
   "source": [
    "range_time = [\n",
    "    {'since' : '2021-01-13', 'until' : '2021-03-12'},\n",
    "    {'since' : '2021-03-13', 'until' : '2021-05-12'},\n",
    "    {'since' : '2021-05-13', 'until' : '2021-07-12'},\n",
    "    {'since' : '2021-07-13', 'until' : '2021-09-12'},\n",
    "    {'since' : '2021-09-13', 'until' : '2021-11-12'},\n",
    "    {'since' : '2021-11-13', 'until' : '2022-01-12'},\n",
    "    {'since' : '2022-01-13', 'until' : '2022-03-12'}\n",
    "]\n",
    "\n",
    "tweets_list2 = []\n",
    "for value in range_time:\n",
    "    # Using TwitterSearchScraper to scrape data and append tweets to list\n",
    "    for i,tweet in enumerate(sntwitter.TwitterSearchScraper('Vaksinasi since:'+ value['since'] +' until:'+ value ['until'] +' lang:id').get_items()):\n",
    "        if i>1000:\n",
    "            break\n",
    "        # user = api.get_user(user_id=tweet.id,screen_name = tweet.username)\n",
    "        # location = user.location\n",
    "\n",
    "        tweets_list2.append([tweet.date, tweet.content, tweet.user.username, tweet.user.location, tweet.hashtags])\n",
    "    \n",
    "# Creating a dataframe from the tweets list above\n",
    "tweets_df2 = pd.DataFrame(tweets_list2, columns=['Datetime', 'Text', 'Username','location', 'hashtags'])"
   ]
  },
  {
   "cell_type": "code",
   "execution_count": 29,
   "metadata": {},
   "outputs": [
    {
     "data": {
      "text/html": [
       "<div>\n",
       "<style scoped>\n",
       "    .dataframe tbody tr th:only-of-type {\n",
       "        vertical-align: middle;\n",
       "    }\n",
       "\n",
       "    .dataframe tbody tr th {\n",
       "        vertical-align: top;\n",
       "    }\n",
       "\n",
       "    .dataframe thead th {\n",
       "        text-align: right;\n",
       "    }\n",
       "</style>\n",
       "<table border=\"1\" class=\"dataframe\">\n",
       "  <thead>\n",
       "    <tr style=\"text-align: right;\">\n",
       "      <th></th>\n",
       "      <th>Datetime</th>\n",
       "      <th>Text</th>\n",
       "      <th>Username</th>\n",
       "      <th>location</th>\n",
       "      <th>hashtags</th>\n",
       "    </tr>\n",
       "  </thead>\n",
       "  <tbody>\n",
       "    <tr>\n",
       "      <th>0</th>\n",
       "      <td>2021-03-11 23:58:25+00:00</td>\n",
       "      <td>Bustam, ketua PWI Papua Barat, mengajak para w...</td>\n",
       "      <td>ywfbruh</td>\n",
       "      <td>Pennsylvania, USA</td>\n",
       "      <td>[OtsusPapuaTerbaik]</td>\n",
       "    </tr>\n",
       "    <tr>\n",
       "      <th>1</th>\n",
       "      <td>2021-03-11 23:56:03+00:00</td>\n",
       "      <td>Vaksinasi Diklaim Tingkatkan Jumlah Pengunjung...</td>\n",
       "      <td>Harian_Jogja</td>\n",
       "      <td>Yogyakarta, Indonesia</td>\n",
       "      <td>[beritajogja, jogja, jogjaistimewa]</td>\n",
       "    </tr>\n",
       "    <tr>\n",
       "      <th>2</th>\n",
       "      <td>2021-03-11 23:40:03+00:00</td>\n",
       "      <td>Wujudkan kekebalan komunal setelah vaksinasi d...</td>\n",
       "      <td>polres_pemalang</td>\n",
       "      <td>Pemalang, Indonesia</td>\n",
       "      <td>[polriindonesia, polriuntukindonesia, kabarpem...</td>\n",
       "    </tr>\n",
       "    <tr>\n",
       "      <th>3</th>\n",
       "      <td>2021-03-11 23:38:51+00:00</td>\n",
       "      <td>Terima kasih kepada pemerintah atas perhatiann...</td>\n",
       "      <td>TomtomTheTITANS</td>\n",
       "      <td>bandung - jakarta</td>\n",
       "      <td>[VaksinUntukKita]</td>\n",
       "    </tr>\n",
       "    <tr>\n",
       "      <th>4</th>\n",
       "      <td>2021-03-11 23:36:44+00:00</td>\n",
       "      <td>NU Jatim: Jangan Ikutin Hoaks, Vaksin Sinovac ...</td>\n",
       "      <td>BacaDiBaBe</td>\n",
       "      <td>Indonesia</td>\n",
       "      <td>[MengenalVaksinAstraZeneca, PenerimaVaksinCovi...</td>\n",
       "    </tr>\n",
       "    <tr>\n",
       "      <th>...</th>\n",
       "      <td>...</td>\n",
       "      <td>...</td>\n",
       "      <td>...</td>\n",
       "      <td>...</td>\n",
       "      <td>...</td>\n",
       "    </tr>\n",
       "    <tr>\n",
       "      <th>7002</th>\n",
       "      <td>2022-03-11 05:01:10+00:00</td>\n",
       "      <td>Lindungi Anak Dari Covid-19 Dengan Vaksinasi \\...</td>\n",
       "      <td>tolis_res</td>\n",
       "      <td></td>\n",
       "      <td>None</td>\n",
       "    </tr>\n",
       "    <tr>\n",
       "      <th>7003</th>\n",
       "      <td>2022-03-11 04:59:48+00:00</td>\n",
       "      <td>13.Kanwil Kemenkumham Sumsel: Vaksinasi tetap ...</td>\n",
       "      <td>LapasEnim</td>\n",
       "      <td></td>\n",
       "      <td>[KumhamPasti, KumhamSumsel, LapasMuaraEnim]</td>\n",
       "    </tr>\n",
       "    <tr>\n",
       "      <th>7004</th>\n",
       "      <td>2022-03-11 04:59:36+00:00</td>\n",
       "      <td>Ini Capaian Vaksin di SD Negeri 014 Kota Bangu...</td>\n",
       "      <td>redaksi86com</td>\n",
       "      <td></td>\n",
       "      <td>[KORANKAMPAR, KORANONLINE, REDAKSI86, VAKSINASI]</td>\n",
       "    </tr>\n",
       "    <tr>\n",
       "      <th>7005</th>\n",
       "      <td>2022-03-11 04:59:18+00:00</td>\n",
       "      <td>Vaksinasi tujuannya untuk melindungi anak dari...</td>\n",
       "      <td>biellasifa</td>\n",
       "      <td>heaven</td>\n",
       "      <td>None</td>\n",
       "    </tr>\n",
       "    <tr>\n",
       "      <th>7006</th>\n",
       "      <td>2022-03-11 04:57:20+00:00</td>\n",
       "      <td>Dikasih info lagi maszzeh ... Yuk ikuti vaksin...</td>\n",
       "      <td>Polresta_Bms</td>\n",
       "      <td>Purwokerto</td>\n",
       "      <td>None</td>\n",
       "    </tr>\n",
       "  </tbody>\n",
       "</table>\n",
       "<p>7007 rows × 5 columns</p>\n",
       "</div>"
      ],
      "text/plain": [
       "                      Datetime  \\\n",
       "0    2021-03-11 23:58:25+00:00   \n",
       "1    2021-03-11 23:56:03+00:00   \n",
       "2    2021-03-11 23:40:03+00:00   \n",
       "3    2021-03-11 23:38:51+00:00   \n",
       "4    2021-03-11 23:36:44+00:00   \n",
       "...                        ...   \n",
       "7002 2022-03-11 05:01:10+00:00   \n",
       "7003 2022-03-11 04:59:48+00:00   \n",
       "7004 2022-03-11 04:59:36+00:00   \n",
       "7005 2022-03-11 04:59:18+00:00   \n",
       "7006 2022-03-11 04:57:20+00:00   \n",
       "\n",
       "                                                   Text         Username  \\\n",
       "0     Bustam, ketua PWI Papua Barat, mengajak para w...          ywfbruh   \n",
       "1     Vaksinasi Diklaim Tingkatkan Jumlah Pengunjung...     Harian_Jogja   \n",
       "2     Wujudkan kekebalan komunal setelah vaksinasi d...  polres_pemalang   \n",
       "3     Terima kasih kepada pemerintah atas perhatiann...  TomtomTheTITANS   \n",
       "4     NU Jatim: Jangan Ikutin Hoaks, Vaksin Sinovac ...       BacaDiBaBe   \n",
       "...                                                 ...              ...   \n",
       "7002  Lindungi Anak Dari Covid-19 Dengan Vaksinasi \\...        tolis_res   \n",
       "7003  13.Kanwil Kemenkumham Sumsel: Vaksinasi tetap ...        LapasEnim   \n",
       "7004  Ini Capaian Vaksin di SD Negeri 014 Kota Bangu...     redaksi86com   \n",
       "7005  Vaksinasi tujuannya untuk melindungi anak dari...       biellasifa   \n",
       "7006  Dikasih info lagi maszzeh ... Yuk ikuti vaksin...     Polresta_Bms   \n",
       "\n",
       "                   location                                           hashtags  \n",
       "0         Pennsylvania, USA                                [OtsusPapuaTerbaik]  \n",
       "1     Yogyakarta, Indonesia                [beritajogja, jogja, jogjaistimewa]  \n",
       "2       Pemalang, Indonesia  [polriindonesia, polriuntukindonesia, kabarpem...  \n",
       "3         bandung - jakarta                                  [VaksinUntukKita]  \n",
       "4                 Indonesia  [MengenalVaksinAstraZeneca, PenerimaVaksinCovi...  \n",
       "...                     ...                                                ...  \n",
       "7002                                                                      None  \n",
       "7003                               [KumhamPasti, KumhamSumsel, LapasMuaraEnim]  \n",
       "7004                          [KORANKAMPAR, KORANONLINE, REDAKSI86, VAKSINASI]  \n",
       "7005                 heaven                                               None  \n",
       "7006             Purwokerto                                               None  \n",
       "\n",
       "[7007 rows x 5 columns]"
      ]
     },
     "execution_count": 29,
     "metadata": {},
     "output_type": "execute_result"
    }
   ],
   "source": [
    "tweets_df2"
   ]
  },
  {
   "cell_type": "code",
   "execution_count": 19,
   "metadata": {},
   "outputs": [
    {
     "name": "stdout",
     "output_type": "stream",
     "text": [
      "2021-03-12\n",
      "2021-05-12\n",
      "2021-07-12\n",
      "2021-09-12\n",
      "2021-11-12\n",
      "2022-01-12\n",
      "2022-03-12\n"
     ]
    }
   ],
   "source": [
    "range_time = [\n",
    "    {'since' : '2021-01-13', 'until' : '2021-03-12'},\n",
    "    {'since' : '2021-03-13', 'until' : '2021-05-12'},\n",
    "    {'since' : '2021-05-13', 'until' : '2021-07-12'},\n",
    "    {'since' : '2021-07-13', 'until' : '2021-09-12'},\n",
    "    {'since' : '2021-09-13', 'until' : '2021-11-12'},\n",
    "    {'since' : '2021-11-13', 'until' : '2022-01-12'},\n",
    "    {'since' : '2022-01-13', 'until' : '2022-03-12'}\n",
    "]\n",
    "\n",
    "for value in range_time:\n",
    "    print(value['until'])"
   ]
  },
  {
   "cell_type": "code",
   "execution_count": 30,
   "metadata": {},
   "outputs": [],
   "source": [
    "csv_data = tweets_df2.to_csv('data_2.csv', index=False)"
   ]
  },
  {
   "cell_type": "code",
   "execution_count": 16,
   "metadata": {},
   "outputs": [
    {
     "name": "stderr",
     "output_type": "stream",
     "text": [
      "C:\\Users\\Muh_A\\AppData\\Local\\Temp\\ipykernel_4592\\485464683.py:10: FutureWarning: content is deprecated, use rawContent instead\n",
      "  tweets_list2.append([tweet.date, tweet.content, tweet.user.username, tweet.user.location])\n"
     ]
    }
   ],
   "source": [
    "tweets_list2 = []\n",
    "\n",
    "# Using TwitterSearchScraper to scrape data and append tweets to list\n",
    "for i,tweet in enumerate(sntwitter.TwitterSearchScraper('COVID Vaksinasi #astrazeneca  since:2021-01-13 until:2021-02-12 lang:id').get_items()):\n",
    "    if i>2:\n",
    "        break\n",
    "    # user = api.get_user(user_id=tweet.id,screen_name = tweet.username)\n",
    "    # location = user.location\n",
    "\n",
    "    tweets_list2.append([tweet.date, tweet.content, tweet.user.username, tweet.user.location])\n",
    "    \n",
    "# Creating a dataframe from the tweets list above\n",
    "tweets_df2 = pd.DataFrame(tweets_list2, columns=['Datetime', 'Text', 'Username','location'])"
   ]
  },
  {
   "cell_type": "code",
   "execution_count": 17,
   "metadata": {},
   "outputs": [
    {
     "data": {
      "text/html": [
       "<div>\n",
       "<style scoped>\n",
       "    .dataframe tbody tr th:only-of-type {\n",
       "        vertical-align: middle;\n",
       "    }\n",
       "\n",
       "    .dataframe tbody tr th {\n",
       "        vertical-align: top;\n",
       "    }\n",
       "\n",
       "    .dataframe thead th {\n",
       "        text-align: right;\n",
       "    }\n",
       "</style>\n",
       "<table border=\"1\" class=\"dataframe\">\n",
       "  <thead>\n",
       "    <tr style=\"text-align: right;\">\n",
       "      <th></th>\n",
       "      <th>Datetime</th>\n",
       "      <th>Text</th>\n",
       "      <th>Username</th>\n",
       "      <th>location</th>\n",
       "    </tr>\n",
       "  </thead>\n",
       "  <tbody>\n",
       "    <tr>\n",
       "      <th>0</th>\n",
       "      <td>2021-02-01 01:46:26+00:00</td>\n",
       "      <td>Update Covid-19: Puluhan Juta Vaksin Buatan As...</td>\n",
       "      <td>wartakotalive</td>\n",
       "      <td>Jalan Palmerah Barat 33-37 Jkt</td>\n",
       "    </tr>\n",
       "    <tr>\n",
       "      <th>1</th>\n",
       "      <td>2021-01-29 14:42:53+00:00</td>\n",
       "      <td>Jerman Tidak Anjurkan Pemberian Vaksin COVID-1...</td>\n",
       "      <td>BacaDiBaBe</td>\n",
       "      <td>Indonesia</td>\n",
       "    </tr>\n",
       "    <tr>\n",
       "      <th>2</th>\n",
       "      <td>2021-01-15 18:24:52+00:00</td>\n",
       "      <td>Opsi Vaksin Covid-19 Mandiri yang Mengemuka......</td>\n",
       "      <td>BacaDiBaBe</td>\n",
       "      <td>Indonesia</td>\n",
       "    </tr>\n",
       "  </tbody>\n",
       "</table>\n",
       "</div>"
      ],
      "text/plain": [
       "                   Datetime  \\\n",
       "0 2021-02-01 01:46:26+00:00   \n",
       "1 2021-01-29 14:42:53+00:00   \n",
       "2 2021-01-15 18:24:52+00:00   \n",
       "\n",
       "                                                Text       Username  \\\n",
       "0  Update Covid-19: Puluhan Juta Vaksin Buatan As...  wartakotalive   \n",
       "1  Jerman Tidak Anjurkan Pemberian Vaksin COVID-1...     BacaDiBaBe   \n",
       "2  Opsi Vaksin Covid-19 Mandiri yang Mengemuka......     BacaDiBaBe   \n",
       "\n",
       "                         location  \n",
       "0  Jalan Palmerah Barat 33-37 Jkt  \n",
       "1                       Indonesia  \n",
       "2                       Indonesia  "
      ]
     },
     "execution_count": 17,
     "metadata": {},
     "output_type": "execute_result"
    }
   ],
   "source": [
    "tweets_df2"
   ]
  },
  {
   "cell_type": "code",
   "execution_count": 20,
   "metadata": {},
   "outputs": [
    {
     "data": {
      "text/plain": [
       "'Update Covid-19: Puluhan Juta Vaksin Buatan AstraZeneca Diperkirakan Tiba di Indonesia Kuartal I\\n\\nhttps://t.co/9gOcZUX97N\\n\\nDownload aplikasi Tribunnews untuk update berita terbaru\\n\\nDapatkan untuk Android: https://t.co/AEVHDGdHUB\\n\\n #UpdateCovid19  #Vaksin #AstraZeneca  #Vaksinasi'"
      ]
     },
     "execution_count": 20,
     "metadata": {},
     "output_type": "execute_result"
    }
   ],
   "source": [
    "tweets_df2['Text'][0]"
   ]
  },
  {
   "cell_type": "markdown",
   "metadata": {},
   "source": [
    "## Convert pandas to csv"
   ]
  },
  {
   "cell_type": "code",
   "execution_count": null,
   "metadata": {},
   "outputs": [],
   "source": [
    "csv_data = tweets_df2.to_csv('data_2.csv', index=False)"
   ]
  }
 ],
 "metadata": {
  "kernelspec": {
   "display_name": "Python 3.10.5 64-bit",
   "language": "python",
   "name": "python3"
  },
  "language_info": {
   "codemirror_mode": {
    "name": "ipython",
    "version": 3
   },
   "file_extension": ".py",
   "mimetype": "text/x-python",
   "name": "python",
   "nbconvert_exporter": "python",
   "pygments_lexer": "ipython3",
   "version": "3.10.5"
  },
  "orig_nbformat": 4,
  "vscode": {
   "interpreter": {
    "hash": "0551efbe79b9975c5a24363fb61c87d0bdb6e89d8a94453d0bafce579f1af278"
   }
  }
 },
 "nbformat": 4,
 "nbformat_minor": 2
}
